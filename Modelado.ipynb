{
 "cells": [
  {
   "cell_type": "markdown",
   "metadata": {},
   "source": [
    "Prueba de etiquetado de precios"
   ]
  },
  {
   "cell_type": "code",
   "execution_count": 155,
   "metadata": {},
   "outputs": [],
   "source": [
    "import pandas as pd \n",
    "import numpy as np\n",
    "import matplotlib.pyplot as plt\n",
    "import seaborn as sns"
   ]
  },
  {
   "cell_type": "code",
   "execution_count": 156,
   "metadata": {},
   "outputs": [
    {
     "name": "stdout",
     "output_type": "stream",
     "text": [
      "<class 'pandas.core.frame.DataFrame'>\n",
      "RangeIndex: 205 entries, 0 to 204\n",
      "Data columns (total 7 columns):\n",
      " #   Column           Non-Null Count  Dtype  \n",
      "---  ------           --------------  -----  \n",
      " 0   Ancho            205 non-null    float64\n",
      " 1   POM              205 non-null    int64  \n",
      " 2   NúmeroCilindros  205 non-null    float64\n",
      " 3   TamañoMotor      205 non-null    int64  \n",
      " 4   HP               205 non-null    int64  \n",
      " 5   Precio           205 non-null    float64\n",
      " 6   Gama             205 non-null    object \n",
      "dtypes: float64(3), int64(3), object(1)\n",
      "memory usage: 11.3+ KB\n"
     ]
    }
   ],
   "source": [
    "data=pd.read_csv('DatosProcesados.csv')\n",
    "data.info()"
   ]
  },
  {
   "cell_type": "code",
   "execution_count": 157,
   "metadata": {},
   "outputs": [
    {
     "data": {
      "text/plain": [
       "<Axes: xlabel='Precio', ylabel='Count'>"
      ]
     },
     "execution_count": 157,
     "metadata": {},
     "output_type": "execute_result"
    },
    {
     "data": {
      "image/png": "[encoded data removed]",
      "text/plain": [
       "<Figure size 640x480 with 1 Axes>"
      ]
     },
     "metadata": {},
     "output_type": "display_data"
    }
   ],
   "source": [
    "sns.histplot(data=data, x='Precio',kde=True,cbar=True)"
   ]
  },
  {
   "cell_type": "markdown",
   "metadata": {},
   "source": [
    "# Modelo de regresión \n",
    "\n",
    "Implementar un modelo de regresión con aprendizaje supervisado que permita predecir el precio final de los vehículos, utilizando los datos que se han puesto a su disposición."
   ]
  },
  {
   "cell_type": "code",
   "execution_count": 158,
   "metadata": {},
   "outputs": [],
   "source": [
    "from sklearn.linear_model import Ridge,LinearRegression,Lasso\n",
    "from sklearn.model_selection import train_test_split,GridSearchCV\n",
    "from sklearn.metrics import mean_squared_error,r2_score\n",
    "from sklearn.preprocessing import StandardScaler,MinMaxScaler,RobustScaler,PolynomialFeatures\n",
    "from sklearn.tree import DecisionTreeRegressor\n",
    "from sklearn.pipeline import make_pipeline\n",
    "from sklearn.svm import SVR"
   ]
  },
  {
   "cell_type": "markdown",
   "metadata": {},
   "source": [
    "La siguiente celda se usa para evitar que salgan los warnings en el cálculo de los errores en sklearn."
   ]
  },
  {
   "cell_type": "code",
   "execution_count": 159,
   "metadata": {},
   "outputs": [],
   "source": [
    "import warnings\n",
    "from warnings import simplefilter\n",
    "\n",
    "# Ignorar los warnings de deprecación\n",
    "simplefilter(action='ignore', category=FutureWarning)"
   ]
  },
  {
   "cell_type": "markdown",
   "metadata": {},
   "source": [
    "Extraemos del dataframe **data** los datos que necesitamos para entrenar y testear el modelo, siendo **x_data** las variables e **y_data** en este caso sería la salida para el modelo de regresión. "
   ]
  },
  {
   "cell_type": "code",
   "execution_count": 160,
   "metadata": {},
   "outputs": [],
   "source": [
    "total=len(data.columns)\n",
    "x_data=data.iloc[:,:total-2]\n",
    "y_data=data.iloc[:,total-2:total-1]"
   ]
  },
  {
   "cell_type": "markdown",
   "metadata": {},
   "source": [
    "Ahora pasamos a reescalar los datos debido a la diferencia entre los rangos de los valores de las columnas. Debido a la falta de valores atípicos se decide elegir el método de escalado **MinMax** para las variables"
   ]
  },
  {
   "cell_type": "code",
   "execution_count": 162,
   "metadata": {},
   "outputs": [],
   "source": [
    "scaler=MinMaxScaler()\n",
    "x_data=scaler.fit_transform(x_data)\n",
    "y_data=scaler.fit_transform(y_data)"
   ]
  },
  {
   "cell_type": "markdown",
   "metadata": {},
   "source": [
    "Se procede ahora a dividir el total de los datos en dos grupos **train** y **test** donde el primero es el que se usará para el entrenamiento de los modelos y el segundo se utilizará para validar el modelo y ver el error que se tiene"
   ]
  },
  {
   "cell_type": "code",
   "execution_count": 163,
   "metadata": {},
   "outputs": [],
   "source": [
    "x_train,x_test,y_train,y_test=train_test_split(x_data,y_data,test_size=0.3,random_state=42)"
   ]
  },
  {
   "cell_type": "markdown",
   "metadata": {},
   "source": [
    "Comenzaremos a probar con diferentes modelos para ver cual es el que mejor se adapta a este casoç"
   ]
  },
  {
   "cell_type": "markdown",
   "metadata": {},
   "source": [
    "## Regresión lineal"
   ]
  },
  {
   "cell_type": "code",
   "execution_count": 125,
   "metadata": {},
   "outputs": [
    {
     "name": "stdout",
     "output_type": "stream",
     "text": [
      "MSE:  0.009569701783690265\n",
      "RMSE:  0.09782485258711236\n",
      "R2 Score:  0.7758776702865369\n"
     ]
    }
   ],
   "source": [
    "lin_reg=LinearRegression()\n",
    "lin_reg.fit(x_train,y_train)\n",
    "y_predict=lin_reg.predict(x_test)\n",
    "#Errores\n",
    "mse_error=mean_squared_error(y_test,y_predict,squared=True)\n",
    "rmse_error=mean_squared_error(y_test,y_predict,squared=False)\n",
    "score=r2_score(y_test,y_predict)\n",
    "print(f'MSE: ',mse_error)\n",
    "print(f'RMSE: ',rmse_error)\n",
    "print(f'R2 Score: ',score)"
   ]
  },
  {
   "cell_type": "code",
   "execution_count": 126,
   "metadata": {},
   "outputs": [
    {
     "name": "stdout",
     "output_type": "stream",
     "text": [
      "R2 Score Entrenamiento:  0.8400296526638429\n"
     ]
    }
   ],
   "source": [
    "y_entrenamiento=lin_reg.predict(x_train)\n",
    "r2_score(y_train,y_entrenamiento)     \n",
    "print(f'R2 Score Entrenamiento: ',r2_score(y_train,y_entrenamiento))  "
   ]
  },
  {
   "cell_type": "markdown",
   "metadata": {},
   "source": [
    "## Regresión Ridge"
   ]
  },
  {
   "cell_type": "code",
   "execution_count": 164,
   "metadata": {},
   "outputs": [
    {
     "name": "stdout",
     "output_type": "stream",
     "text": [
      "MSE:  0.010152927264694632\n",
      "RMSE:  0.10076173512149655\n",
      "R2 Score:  0.7622185347663757\n"
     ]
    }
   ],
   "source": [
    "ridge_reg=Ridge(alpha=1.30)\n",
    "ridge_reg.fit(x_train,y_train)\n",
    "y_predict=ridge_reg.predict(x_test)\n",
    "#Errores\n",
    "mse_error=mean_squared_error(y_test,y_predict,squared=True)\n",
    "rmse_error=mean_squared_error(y_test,y_predict,squared=False)\n",
    "score=r2_score(y_test,y_predict)\n",
    "print(f'MSE: ',mse_error)\n",
    "print(f'RMSE: ',rmse_error)\n",
    "print(f'R2 Score: ',score)"
   ]
  },
  {
   "cell_type": "code",
   "execution_count": 165,
   "metadata": {},
   "outputs": [
    {
     "name": "stdout",
     "output_type": "stream",
     "text": [
      "R2 Score Entrenamiento:  0.8305155293680593\n"
     ]
    }
   ],
   "source": [
    "y_entrenamiento=ridge_reg.predict(x_train)\n",
    "r2_score(y_train,y_entrenamiento)     \n",
    "print(f'R2 Score Entrenamiento: ',r2_score(y_train,y_entrenamiento))  "
   ]
  },
  {
   "cell_type": "markdown",
   "metadata": {},
   "source": [
    "## Regresión Lasso"
   ]
  },
  {
   "cell_type": "code",
   "execution_count": 129,
   "metadata": {},
   "outputs": [
    {
     "name": "stdout",
     "output_type": "stream",
     "text": [
      "MSE:  0.042815591758192044\n",
      "RMSE:  0.2069192880284292\n",
      "R2 Score:  -0.002740773935190788\n"
     ]
    }
   ],
   "source": [
    "lasso_reg=Lasso(alpha=0.1)\n",
    "lasso_reg.fit(x_train,y_train)\n",
    "y_predict=lasso_reg.predict(x_test)\n",
    "#Errores\n",
    "mse_error=mean_squared_error(y_test,y_predict,squared=True)\n",
    "rmse_error=mean_squared_error(y_test,y_predict,squared=False)\n",
    "score=r2_score(y_test,y_predict)\n",
    "print(f'MSE: ',mse_error)\n",
    "print(f'RMSE: ',rmse_error)\n",
    "print(f'R2 Score: ',score)"
   ]
  },
  {
   "cell_type": "code",
   "execution_count": 130,
   "metadata": {},
   "outputs": [
    {
     "name": "stdout",
     "output_type": "stream",
     "text": [
      "R2 Score Entrenamiento:  0.0\n"
     ]
    }
   ],
   "source": [
    "y_entrenamiento=lasso_reg.predict(x_train)\n",
    "r2_score(y_train,y_entrenamiento)     \n",
    "print(f'R2 Score Entrenamiento: ',r2_score(y_train,y_entrenamiento))  "
   ]
  },
  {
   "cell_type": "markdown",
   "metadata": {},
   "source": [
    "## Regresión polinómica"
   ]
  },
  {
   "cell_type": "code",
   "execution_count": 131,
   "metadata": {},
   "outputs": [
    {
     "name": "stdout",
     "output_type": "stream",
     "text": [
      "MSE:  0.006740261557860152\n",
      "RMSE:  0.08209909596250224\n",
      "R2 Score:  0.8421431349302527\n"
     ]
    }
   ],
   "source": [
    "#grado del polinomio\n",
    "degree=2\n",
    "poly_reg=make_pipeline(PolynomialFeatures(degree),LinearRegression())\n",
    "poly_reg.fit(x_train,y_train)\n",
    "y_predict=poly_reg.predict(x_test)\n",
    "#Errores\n",
    "mse_error=mean_squared_error(y_test,y_predict,squared=True)\n",
    "rmse_error=mean_squared_error(y_test,y_predict,squared=False)\n",
    "score=r2_score(y_test,y_predict)\n",
    "print(f'MSE: ',mse_error)\n",
    "print(f'RMSE: ',rmse_error)\n",
    "print(f'R2 Score: ',score)"
   ]
  },
  {
   "cell_type": "code",
   "execution_count": 132,
   "metadata": {},
   "outputs": [
    {
     "name": "stdout",
     "output_type": "stream",
     "text": [
      "R2 Score Entrenamiento:  0.9135934349944753\n"
     ]
    }
   ],
   "source": [
    "y_entrenamiento=poly_reg.predict(x_train)\n",
    "r2_score(y_train,y_entrenamiento)     \n",
    "print(f'R2 Score Entrenamiento: ',r2_score(y_train,y_entrenamiento))  "
   ]
  },
  {
   "cell_type": "markdown",
   "metadata": {},
   "source": [
    "## Regresión de Árbol de desición"
   ]
  },
  {
   "cell_type": "code",
   "execution_count": 133,
   "metadata": {},
   "outputs": [
    {
     "name": "stdout",
     "output_type": "stream",
     "text": [
      "MSE:  0.004100980426861302\n",
      "RMSE:  0.06403889776425967\n",
      "R2 Score:  0.9039550752831259\n"
     ]
    }
   ],
   "source": [
    "trre_reg=DecisionTreeRegressor(max_depth=6, criterion='squared_error')\n",
    "trre_reg.fit(x_train,y_train)\n",
    "y_predict=trre_reg.predict(x_test)\n",
    "#Errores\n",
    "mse_error=mean_squared_error(y_test,y_predict,squared=True)\n",
    "rmse_error=mean_squared_error(y_test,y_predict,squared=False)\n",
    "score=r2_score(y_test,y_predict)\n",
    "print(f'MSE: ',mse_error)\n",
    "print(f'RMSE: ',rmse_error)\n",
    "print(f'R2 Score: ',score)"
   ]
  },
  {
   "cell_type": "code",
   "execution_count": 134,
   "metadata": {},
   "outputs": [
    {
     "name": "stdout",
     "output_type": "stream",
     "text": [
      "R2 Score Entrenamiento:  0.986028924723832\n"
     ]
    }
   ],
   "source": [
    "y_entrenamiento=trre_reg.predict(x_train)\n",
    "r2_score(y_train,y_entrenamiento)     \n",
    "print(f'R2 Score Entrenamiento: ',r2_score(y_train,y_entrenamiento))  "
   ]
  },
  {
   "cell_type": "markdown",
   "metadata": {},
   "source": [
    "## Vectores de soporte"
   ]
  },
  {
   "cell_type": "code",
   "execution_count": 135,
   "metadata": {},
   "outputs": [
    {
     "name": "stdout",
     "output_type": "stream",
     "text": [
      "MSE:  0.007570631017022112\n",
      "RMSE:  0.08700937315612677\n",
      "R2 Score:  0.8226958896642126\n"
     ]
    },
    {
     "name": "stderr",
     "output_type": "stream",
     "text": [
      "c:\\Users\\juan\\AppData\\Local\\Programs\\Python\\Python312\\Lib\\site-packages\\sklearn\\utils\\validation.py:1300: DataConversionWarning: A column-vector y was passed when a 1d array was expected. Please change the shape of y to (n_samples, ), for example using ravel().\n",
      "  y = column_or_1d(y, warn=True)\n"
     ]
    }
   ],
   "source": [
    "svm_reg=SVR(kernel='rbf',C=1.0, epsilon=0.01)\n",
    "svm_reg.fit(x_train,y_train)\n",
    "y_predict=svm_reg.predict(x_test)\n",
    "#Errores\n",
    "mse_error=mean_squared_error(y_test,y_predict,squared=True)\n",
    "rmse_error=mean_squared_error(y_test,y_predict,squared=False)\n",
    "score=r2_score(y_test,y_predict)\n",
    "print(f'MSE: ',mse_error)\n",
    "print(f'RMSE: ',rmse_error)\n",
    "print(f'R2 Score: ',score)"
   ]
  },
  {
   "cell_type": "code",
   "execution_count": 136,
   "metadata": {},
   "outputs": [
    {
     "name": "stdout",
     "output_type": "stream",
     "text": [
      "R2 Score Entrenamiento:  0.9501595831100376\n"
     ]
    }
   ],
   "source": [
    "y_entrenamiento=svm_reg.predict(x_train)\n",
    "r2_score(y_train,y_entrenamiento)     \n",
    "print(f'R2 Score Entrenamiento: ',r2_score(y_train,y_entrenamiento))  "
   ]
  },
  {
   "cell_type": "markdown",
   "metadata": {},
   "source": [
    "Se puede ver en la siguiente tabla de errores que el modelo con el menor R2 score es de *Regresión del Árbol de Decisión*, a primera vista parecería ser el mejor modelo pero ahora debemos comparar el comportamiento con los datos que estaban fuera del entrenamiento con los que estaban dentro."
   ]
  },
  {
   "cell_type": "markdown",
   "metadata": {},
   "source": [
    "|Error|Lineal|Ridge|Lasso|Polinómica|Árbol|SVR|\n",
    "|-----|------|-----|-----|----------|-----|---|\n",
    "|MSE|  0.00957|0.01015|0.04282|0.00674|0.00345|0.00757|\n",
    "|RMSE|  0.09782|0.10076|0.20692|0.08210|0.05877| 0.08701|\n",
    "|R2 Score| 0.77588|0.76222|-0.00274|0.84214|0.91911|0.82270|"
   ]
  },
  {
   "cell_type": "markdown",
   "metadata": {},
   "source": [
    "En la siguiente tabla vemos el error con los datos de prueba y con los datos de entrenamiento para ver la diferencia."
   ]
  },
  {
   "cell_type": "markdown",
   "metadata": {},
   "source": [
    "|Error|Lineal|Ridge|Lasso|Polinómica|Árbol|SVR|\n",
    "|-----|------|-----|-----|----------|-----|---|\n",
    "|R2 Score| 0.77588|0.76222|-0.00274|0.84214|0.91911|0.82270|\n",
    "|R2 Score Ent.|0.84003|0.83052|0.0|0.91359|0.98602|0.95016|"
   ]
  },
  {
   "cell_type": "markdown",
   "metadata": {},
   "source": [
    "Si bien los modelos de los últmios 3 columnas tiene un R2 Score alto el modelo que tiene menor diferencia entre el error en fase de entrenamiento y en fase de prueba es el modelo de regresión *Ridge*  con 0.0683. Por lo que es el que mejor se comporto, si bien es de destacar que ninguno se comporto de una manera sobresaliente en lo que se referiere a la diferencia de comportamiento entre la fase de entrenamiento y la de prueba."
   ]
  },
  {
   "cell_type": "markdown",
   "metadata": {},
   "source": [
    "Ahora se procede a optimizar el hiperparametro del modelo en cuestión para no hacer una busqueda a mano por todos los posibles valores del mismo se realiza un busqueda en grilla como sigue a continuación."
   ]
  },
  {
   "cell_type": "code",
   "execution_count": 172,
   "metadata": {},
   "outputs": [
    {
     "name": "stdout",
     "output_type": "stream",
     "text": [
      "El mejor parámetro es:  {'alpha': 0.7}\n"
     ]
    }
   ],
   "source": [
    "min=0.1\n",
    "max=2.0\n",
    "par_alpha=np.linspace(0.1,2.0,20)\n",
    "param_grid={'alpha':par_alpha}\n",
    "grid_search=GridSearchCV(ridge_reg,param_grid,cv=5,scoring='r2')\n",
    "grid_search.fit(x_train,y_train)\n",
    "print(f'El mejor parámetro es: ',grid_search.best_params_)"
   ]
  },
  {
   "cell_type": "markdown",
   "metadata": {},
   "source": [
    "A continuación se vuelve a repetir el proceso para el modelo *Ridge* y se puede ver como la diferencia del *R2* disminuye muy poco pero ya tenemos el mejor parámetro para nuestro modelo."
   ]
  },
  {
   "cell_type": "code",
   "execution_count": 176,
   "metadata": {},
   "outputs": [],
   "source": [
    "best_param=grid_search.best_params_['alpha']"
   ]
  },
  {
   "cell_type": "code",
   "execution_count": 178,
   "metadata": {},
   "outputs": [
    {
     "name": "stdout",
     "output_type": "stream",
     "text": [
      "MSE:  0.009867924636590098\n",
      "RMSE:  0.09933742817583964\n",
      "R2 Score:  0.7688932937535482\n",
      "R2 Score Entrenamiento:  0.8351646387166201\n",
      "Diferencia de R2:  0.06627134496307185\n"
     ]
    }
   ],
   "source": [
    "ridge_reg=Ridge(alpha=best_param)\n",
    "ridge_reg.fit(x_train,y_train)\n",
    "y_predict=ridge_reg.predict(x_test)\n",
    "#Errores\n",
    "mse_error=mean_squared_error(y_test,y_predict,squared=True)\n",
    "rmse_error=mean_squared_error(y_test,y_predict,squared=False)\n",
    "score=r2_score(y_test,y_predict)\n",
    "print(f'MSE: ',mse_error)\n",
    "print(f'RMSE: ',rmse_error)\n",
    "print(f'R2 Score: ',score)\n",
    "\n",
    "y_entrenamiento=ridge_reg.predict(x_train)\n",
    "r2_score(y_train,y_entrenamiento)     \n",
    "print(f'R2 Score Entrenamiento: ',r2_score(y_train,y_entrenamiento))  \n",
    "print(f'Diferencia de R2: ',r2_score(y_train,y_entrenamiento)-r2_score(y_test,y_predict))"
   ]
  },
  {
   "cell_type": "markdown",
   "metadata": {},
   "source": [
    "# Modelos de clasificación\n",
    "\n",
    "Implementar un modelo de clasificación con aprendizaje supervisado que permita clasificar el precio de los vehículos en baratos y caros usando la mediana de los precios como punto de corte, utilizando los datos que se han puesto a su disposición."
   ]
  },
  {
   "cell_type": "code",
   "execution_count": 137,
   "metadata": {},
   "outputs": [],
   "source": [
    "from sklearn.linear_model import LogisticRegression\n",
    "from sklearn.model_selection import train_test_split\n",
    "from sklearn.metrics import confusion_matrix, classification_report\n",
    "from sklearn.tree import DecisionTreeClassifier\n",
    "from sklearn.svm import SVC\n",
    "from sklearn.neighbors import KNeighborsClassifier"
   ]
  },
  {
   "cell_type": "code",
   "execution_count": 138,
   "metadata": {},
   "outputs": [],
   "source": [
    "total=len(data.columns)\n",
    "x=data.iloc[:,:total-2]\n",
    "y=data.iloc[:,total-1:]"
   ]
  },
  {
   "cell_type": "code",
   "execution_count": 139,
   "metadata": {},
   "outputs": [
    {
     "data": {
      "text/html": [
       "<div>\n",
       "<style scoped>\n",
       "    .dataframe tbody tr th:only-of-type {\n",
       "        vertical-align: middle;\n",
       "    }\n",
       "\n",
       "    .dataframe tbody tr th {\n",
       "        vertical-align: top;\n",
       "    }\n",
       "\n",
       "    .dataframe thead th {\n",
       "        text-align: right;\n",
       "    }\n",
       "</style>\n",
       "<table border=\"1\" class=\"dataframe\">\n",
       "  <thead>\n",
       "    <tr style=\"text-align: right;\">\n",
       "      <th></th>\n",
       "      <th>Ancho</th>\n",
       "      <th>POM</th>\n",
       "      <th>NúmeroCilindros</th>\n",
       "      <th>TamañoMotor</th>\n",
       "      <th>HP</th>\n",
       "    </tr>\n",
       "  </thead>\n",
       "  <tbody>\n",
       "    <tr>\n",
       "      <th>0</th>\n",
       "      <td>64.1</td>\n",
       "      <td>2548</td>\n",
       "      <td>4.0</td>\n",
       "      <td>130</td>\n",
       "      <td>111</td>\n",
       "    </tr>\n",
       "    <tr>\n",
       "      <th>1</th>\n",
       "      <td>64.1</td>\n",
       "      <td>2548</td>\n",
       "      <td>4.0</td>\n",
       "      <td>130</td>\n",
       "      <td>111</td>\n",
       "    </tr>\n",
       "    <tr>\n",
       "      <th>2</th>\n",
       "      <td>65.5</td>\n",
       "      <td>2823</td>\n",
       "      <td>6.0</td>\n",
       "      <td>152</td>\n",
       "      <td>154</td>\n",
       "    </tr>\n",
       "    <tr>\n",
       "      <th>3</th>\n",
       "      <td>66.2</td>\n",
       "      <td>2337</td>\n",
       "      <td>4.0</td>\n",
       "      <td>109</td>\n",
       "      <td>102</td>\n",
       "    </tr>\n",
       "    <tr>\n",
       "      <th>4</th>\n",
       "      <td>66.4</td>\n",
       "      <td>2824</td>\n",
       "      <td>5.0</td>\n",
       "      <td>136</td>\n",
       "      <td>115</td>\n",
       "    </tr>\n",
       "    <tr>\n",
       "      <th>...</th>\n",
       "      <td>...</td>\n",
       "      <td>...</td>\n",
       "      <td>...</td>\n",
       "      <td>...</td>\n",
       "      <td>...</td>\n",
       "    </tr>\n",
       "    <tr>\n",
       "      <th>200</th>\n",
       "      <td>68.9</td>\n",
       "      <td>2952</td>\n",
       "      <td>4.0</td>\n",
       "      <td>141</td>\n",
       "      <td>114</td>\n",
       "    </tr>\n",
       "    <tr>\n",
       "      <th>201</th>\n",
       "      <td>68.8</td>\n",
       "      <td>3049</td>\n",
       "      <td>4.0</td>\n",
       "      <td>141</td>\n",
       "      <td>160</td>\n",
       "    </tr>\n",
       "    <tr>\n",
       "      <th>202</th>\n",
       "      <td>68.9</td>\n",
       "      <td>3012</td>\n",
       "      <td>6.0</td>\n",
       "      <td>173</td>\n",
       "      <td>134</td>\n",
       "    </tr>\n",
       "    <tr>\n",
       "      <th>203</th>\n",
       "      <td>68.9</td>\n",
       "      <td>3217</td>\n",
       "      <td>6.0</td>\n",
       "      <td>145</td>\n",
       "      <td>106</td>\n",
       "    </tr>\n",
       "    <tr>\n",
       "      <th>204</th>\n",
       "      <td>68.9</td>\n",
       "      <td>3062</td>\n",
       "      <td>4.0</td>\n",
       "      <td>141</td>\n",
       "      <td>114</td>\n",
       "    </tr>\n",
       "  </tbody>\n",
       "</table>\n",
       "<p>205 rows × 5 columns</p>\n",
       "</div>"
      ],
      "text/plain": [
       "     Ancho   POM  NúmeroCilindros  TamañoMotor   HP\n",
       "0     64.1  2548              4.0          130  111\n",
       "1     64.1  2548              4.0          130  111\n",
       "2     65.5  2823              6.0          152  154\n",
       "3     66.2  2337              4.0          109  102\n",
       "4     66.4  2824              5.0          136  115\n",
       "..     ...   ...              ...          ...  ...\n",
       "200   68.9  2952              4.0          141  114\n",
       "201   68.8  3049              4.0          141  160\n",
       "202   68.9  3012              6.0          173  134\n",
       "203   68.9  3217              6.0          145  106\n",
       "204   68.9  3062              4.0          141  114\n",
       "\n",
       "[205 rows x 5 columns]"
      ]
     },
     "execution_count": 139,
     "metadata": {},
     "output_type": "execute_result"
    }
   ],
   "source": [
    "x"
   ]
  },
  {
   "cell_type": "markdown",
   "metadata": {},
   "source": [
    "Debido a que los datos fueron dividos en gama *Alta* y *Baja* en base a la mediana tenemos practicamente la misma cantidad de datos en ambos grupos, solo tenemos unos mas en el de los vehículos de gama alta."
   ]
  },
  {
   "cell_type": "code",
   "execution_count": 140,
   "metadata": {},
   "outputs": [
    {
     "data": {
      "text/plain": [
       "<Axes: xlabel='Gama', ylabel='count'>"
      ]
     },
     "execution_count": 140,
     "metadata": {},
     "output_type": "execute_result"
    },
    {
     "data": {
      "image/png": "[encoded data removed]",
      "text/plain": [
       "<Figure size 640x480 with 1 Axes>"
      ]
     },
     "metadata": {},
     "output_type": "display_data"
    }
   ],
   "source": [
    "sns.countplot(data=y, x='Gama', hue='Gama')"
   ]
  },
  {
   "cell_type": "markdown",
   "metadata": {},
   "source": [
    "Realizamos el mismo procedimiento con los datos para tener un subset de datos para entrenar y otro para validarlo."
   ]
  },
  {
   "cell_type": "code",
   "execution_count": 141,
   "metadata": {},
   "outputs": [],
   "source": [
    "x_train,x_test,y_train,y_test=train_test_split(x,y,test_size=0.3, random_state=40)"
   ]
  },
  {
   "cell_type": "markdown",
   "metadata": {},
   "source": [
    "## Regresion Logística"
   ]
  },
  {
   "cell_type": "code",
   "execution_count": 142,
   "metadata": {},
   "outputs": [
    {
     "name": "stderr",
     "output_type": "stream",
     "text": [
      "c:\\Users\\juan\\AppData\\Local\\Programs\\Python\\Python312\\Lib\\site-packages\\sklearn\\utils\\validation.py:1300: DataConversionWarning: A column-vector y was passed when a 1d array was expected. Please change the shape of y to (n_samples, ), for example using ravel().\n",
      "  y = column_or_1d(y, warn=True)\n",
      "c:\\Users\\juan\\AppData\\Local\\Programs\\Python\\Python312\\Lib\\site-packages\\sklearn\\linear_model\\_logistic.py:469: ConvergenceWarning: lbfgs failed to converge (status=1):\n",
      "STOP: TOTAL NO. of ITERATIONS REACHED LIMIT.\n",
      "\n",
      "Increase the number of iterations (max_iter) or scale the data as shown in:\n",
      "    https://scikit-learn.org/stable/modules/preprocessing.html\n",
      "Please also refer to the documentation for alternative solver options:\n",
      "    https://scikit-learn.org/stable/modules/linear_model.html#logistic-regression\n",
      "  n_iter_i = _check_optimize_result(\n"
     ]
    }
   ],
   "source": [
    "log_reg=LogisticRegression()\n",
    "log_reg.fit(x_train,y_train)\n",
    "y_predict=log_reg.predict(x_test)"
   ]
  },
  {
   "cell_type": "code",
   "execution_count": 143,
   "metadata": {},
   "outputs": [
    {
     "data": {
      "image/png": "[encoded data removed]",
      "text/plain": [
       "<Figure size 1200x800 with 1 Axes>"
      ]
     },
     "metadata": {},
     "output_type": "display_data"
    }
   ],
   "source": [
    "cm = confusion_matrix(y_test, y_predict)\n",
    "fig, ax = plt.subplots(figsize=(12,8))\n",
    "ax.matshow(cm)\n",
    "plt.title('Matriz de Confusión', fontsize=20)\n",
    "plt.ylabel('Etiqueta Verdadera', fontsize=15)\n",
    "plt.xlabel('Etiqueta Predicha', fontsize=15)\n",
    "for (i, j), z in np.ndenumerate(cm):\n",
    "    ax.text(j, i, '{:0.1f}'.format(z), ha='center', va='center')"
   ]
  },
  {
   "cell_type": "code",
   "execution_count": 144,
   "metadata": {},
   "outputs": [
    {
     "name": "stdout",
     "output_type": "stream",
     "text": [
      "              precision    recall  f1-score   support\n",
      "\n",
      "        Alta       0.77      0.83      0.80        24\n",
      "        Baja       0.89      0.84      0.86        38\n",
      "\n",
      "    accuracy                           0.84        62\n",
      "   macro avg       0.83      0.84      0.83        62\n",
      "weighted avg       0.84      0.84      0.84        62\n",
      "\n"
     ]
    }
   ],
   "source": [
    "print(classification_report(y_test, y_predict))"
   ]
  },
  {
   "cell_type": "markdown",
   "metadata": {},
   "source": [
    "## Árbol de Decisiones"
   ]
  },
  {
   "cell_type": "code",
   "execution_count": 145,
   "metadata": {},
   "outputs": [],
   "source": [
    "tree_clf=DecisionTreeClassifier()\n",
    "tree_clf.fit(x_train,y_train)\n",
    "y_predict=tree_clf.predict(x_test)"
   ]
  },
  {
   "cell_type": "code",
   "execution_count": 146,
   "metadata": {},
   "outputs": [
    {
     "data": {
      "image/png": "[encoded data removed]",
      "text/plain": [
       "<Figure size 1200x800 with 1 Axes>"
      ]
     },
     "metadata": {},
     "output_type": "display_data"
    }
   ],
   "source": [
    "cm = confusion_matrix(y_test, y_predict)\n",
    "fig, ax = plt.subplots(figsize=(12,8))\n",
    "ax.matshow(cm)\n",
    "plt.title('Matriz de Confusión', fontsize=20)\n",
    "plt.ylabel('Etiqueta Verdadera', fontsize=15)\n",
    "plt.xlabel('Etiqueta Predicha', fontsize=15)\n",
    "for (i, j), z in np.ndenumerate(cm):\n",
    "    ax.text(j, i, '{:0.1f}'.format(z), ha='center', va='center')"
   ]
  },
  {
   "cell_type": "code",
   "execution_count": 147,
   "metadata": {},
   "outputs": [
    {
     "name": "stdout",
     "output_type": "stream",
     "text": [
      "              precision    recall  f1-score   support\n",
      "\n",
      "        Alta       0.79      0.96      0.87        24\n",
      "        Baja       0.97      0.84      0.90        38\n",
      "\n",
      "    accuracy                           0.89        62\n",
      "   macro avg       0.88      0.90      0.88        62\n",
      "weighted avg       0.90      0.89      0.89        62\n",
      "\n"
     ]
    }
   ],
   "source": [
    "print(classification_report(y_test, y_predict))"
   ]
  },
  {
   "cell_type": "markdown",
   "metadata": {},
   "source": [
    "## K Vecinos"
   ]
  },
  {
   "cell_type": "code",
   "execution_count": 148,
   "metadata": {},
   "outputs": [
    {
     "name": "stderr",
     "output_type": "stream",
     "text": [
      "c:\\Users\\juan\\AppData\\Local\\Programs\\Python\\Python312\\Lib\\site-packages\\sklearn\\neighbors\\_classification.py:238: DataConversionWarning: A column-vector y was passed when a 1d array was expected. Please change the shape of y to (n_samples,), for example using ravel().\n",
      "  return self._fit(X, y)\n"
     ]
    }
   ],
   "source": [
    "knn=KNeighborsClassifier()\n",
    "knn.fit(x_train,y_train)\n",
    "y_predict=knn.predict(x_test)"
   ]
  },
  {
   "cell_type": "code",
   "execution_count": 149,
   "metadata": {},
   "outputs": [
    {
     "data": {
      "image/png": "[encoded data removed]",
      "text/plain": [
       "<Figure size 1200x800 with 1 Axes>"
      ]
     },
     "metadata": {},
     "output_type": "display_data"
    }
   ],
   "source": [
    "cm = confusion_matrix(y_test, y_predict)\n",
    "fig, ax = plt.subplots(figsize=(12,8))\n",
    "ax.matshow(cm)\n",
    "plt.title('Matriz de Confusión', fontsize=20)\n",
    "plt.ylabel('Etiqueta Verdadera', fontsize=15)\n",
    "plt.xlabel('Etiqueta Predicha', fontsize=15)\n",
    "for (i, j), z in np.ndenumerate(cm):\n",
    "    ax.text(j, i, '{:0.1f}'.format(z), ha='center', va='center')"
   ]
  },
  {
   "cell_type": "code",
   "execution_count": 150,
   "metadata": {},
   "outputs": [
    {
     "name": "stdout",
     "output_type": "stream",
     "text": [
      "              precision    recall  f1-score   support\n",
      "\n",
      "        Alta       0.81      0.88      0.84        24\n",
      "        Baja       0.92      0.87      0.89        38\n",
      "\n",
      "    accuracy                           0.87        62\n",
      "   macro avg       0.86      0.87      0.87        62\n",
      "weighted avg       0.87      0.87      0.87        62\n",
      "\n"
     ]
    }
   ],
   "source": [
    "print(classification_report(y_test, y_predict))"
   ]
  },
  {
   "cell_type": "markdown",
   "metadata": {},
   "source": [
    "## SVM"
   ]
  },
  {
   "cell_type": "code",
   "execution_count": 151,
   "metadata": {},
   "outputs": [
    {
     "name": "stderr",
     "output_type": "stream",
     "text": [
      "c:\\Users\\juan\\AppData\\Local\\Programs\\Python\\Python312\\Lib\\site-packages\\sklearn\\utils\\validation.py:1300: DataConversionWarning: A column-vector y was passed when a 1d array was expected. Please change the shape of y to (n_samples, ), for example using ravel().\n",
      "  y = column_or_1d(y, warn=True)\n"
     ]
    }
   ],
   "source": [
    "svm=SVC()\n",
    "svm.fit(x_train,y_train)\n",
    "y_predict=svm.predict(x_test)"
   ]
  },
  {
   "cell_type": "code",
   "execution_count": 152,
   "metadata": {},
   "outputs": [
    {
     "data": {
      "image/png": "[encoded data removed]",
      "text/plain": [
       "<Figure size 1200x800 with 1 Axes>"
      ]
     },
     "metadata": {},
     "output_type": "display_data"
    }
   ],
   "source": [
    "cm = confusion_matrix(y_test, y_predict)\n",
    "fig, ax = plt.subplots(figsize=(12,8))\n",
    "ax.matshow(cm)\n",
    "plt.title('Matriz de Confusión', fontsize=20)\n",
    "plt.ylabel('Etiqueta Verdadera', fontsize=15)\n",
    "plt.xlabel('Etiqueta Predicha', fontsize=15)\n",
    "for (i, j), z in np.ndenumerate(cm):\n",
    "    ax.text(j, i, '{:0.1f}'.format(z), ha='center', va='center')"
   ]
  },
  {
   "cell_type": "code",
   "execution_count": 153,
   "metadata": {},
   "outputs": [
    {
     "name": "stdout",
     "output_type": "stream",
     "text": [
      "              precision    recall  f1-score   support\n",
      "\n",
      "        Alta       0.83      0.83      0.83        24\n",
      "        Baja       0.89      0.89      0.89        38\n",
      "\n",
      "    accuracy                           0.87        62\n",
      "   macro avg       0.86      0.86      0.86        62\n",
      "weighted avg       0.87      0.87      0.87        62\n",
      "\n"
     ]
    }
   ],
   "source": [
    "print(classification_report(y_test, y_predict))"
   ]
  }
 ],
 "metadata": {
  "kernelspec": {
   "display_name": "Python 3",
   "language": "python",
   "name": "python3"
  },
  "language_info": {
   "codemirror_mode": {
    "name": "ipython",
    "version": 3
   },
   "file_extension": ".py",
   "mimetype": "text/x-python",
   "name": "python",
   "nbconvert_exporter": "python",
   "pygments_lexer": "ipython3",
   "version": "3.12.1"
  }
 },
 "nbformat": 4,
 "nbformat_minor": 2
}
