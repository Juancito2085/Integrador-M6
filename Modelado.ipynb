{
 "cells": [
  {
   "cell_type": "markdown",
   "metadata": {},
   "source": [
    "Prueba de etiquetado de precios"
   ]
  },
  {
   "cell_type": "code",
   "execution_count": 162,
   "metadata": {},
   "outputs": [],
   "source": [
    "import pandas as pd \n",
    "import numpy as np\n",
    "import matplotlib.pyplot as plt\n",
    "import seaborn as sns"
   ]
  },
  {
   "cell_type": "code",
   "execution_count": 163,
   "metadata": {},
   "outputs": [
    {
     "name": "stdout",
     "output_type": "stream",
     "text": [
      "<class 'pandas.core.frame.DataFrame'>\n",
      "RangeIndex: 205 entries, 0 to 204\n",
      "Data columns (total 7 columns):\n",
      " #   Column           Non-Null Count  Dtype  \n",
      "---  ------           --------------  -----  \n",
      " 0   Ancho            205 non-null    float64\n",
      " 1   POM              205 non-null    int64  \n",
      " 2   NúmeroCilindros  205 non-null    float64\n",
      " 3   TamañoMotor      205 non-null    int64  \n",
      " 4   HP               205 non-null    int64  \n",
      " 5   Precio           205 non-null    float64\n",
      " 6   Gama             205 non-null    object \n",
      "dtypes: float64(3), int64(3), object(1)\n",
      "memory usage: 11.3+ KB\n"
     ]
    }
   ],
   "source": [
    "data=pd.read_csv('DatosProcesados.csv')\n",
    "data.info()"
   ]
  },
  {
   "cell_type": "code",
   "execution_count": 3,
   "metadata": {},
   "outputs": [
    {
     "data": {
      "text/plain": [
       "<Axes: xlabel='Precio', ylabel='Count'>"
      ]
     },
     "execution_count": 3,
     "metadata": {},
     "output_type": "execute_result"
    },
    {
     "data": {
      "image/png": "[encoded data removed]",
      "text/plain": [
       "<Figure size 640x480 with 1 Axes>"
      ]
     },
     "metadata": {},
     "output_type": "display_data"
    }
   ],
   "source": [
    "sns.histplot(data=data, x='Precio',kde=True,cbar=True)"
   ]
  },
  {
   "cell_type": "markdown",
   "metadata": {},
   "source": [
    "# Modelo de regresión \n",
    "\n",
    "Implementar un modelo de regresión con aprendizaje supervisado que permita predecir el precio final de los vehículos, utilizando los datos que se han puesto a su disposición."
   ]
  },
  {
   "cell_type": "code",
   "execution_count": 263,
   "metadata": {},
   "outputs": [],
   "source": [
    "from sklearn.linear_model import Ridge,LinearRegression,Lasso\n",
    "from sklearn.model_selection import train_test_split\n",
    "from sklearn.metrics import mean_squared_error,r2_score\n",
    "from sklearn.preprocessing import StandardScaler,MinMaxScaler,RobustScaler,PolynomialFeatures\n",
    "from sklearn.tree import DecisionTreeRegressor\n",
    "from sklearn.pipeline import make_pipeline\n",
    "from sklearn.svm import SVR"
   ]
  },
  {
   "cell_type": "markdown",
   "metadata": {},
   "source": [
    "La siguiente celda se usa para evitar que salgan los warnings en el cálculo de los errores en sklearn."
   ]
  },
  {
   "cell_type": "code",
   "execution_count": 276,
   "metadata": {},
   "outputs": [],
   "source": [
    "import warnings\n",
    "from warnings import simplefilter\n",
    "\n",
    "# Ignorar los warnings de deprecación\n",
    "simplefilter(action='ignore', category=FutureWarning)"
   ]
  },
  {
   "cell_type": "markdown",
   "metadata": {},
   "source": [
    "Extraemos del dataframe **data** los datos que necesitamos para entrenar y testear el modelo, siendo **x_data** las variables e **y_data** en este caso sería la salida para el modelo de regresión. "
   ]
  },
  {
   "cell_type": "code",
   "execution_count": 234,
   "metadata": {},
   "outputs": [],
   "source": [
    "total=len(data.columns)\n",
    "x_data=data.iloc[:,:total-2]\n",
    "y_data=data.iloc[:,total-2:total-1]"
   ]
  },
  {
   "cell_type": "markdown",
   "metadata": {},
   "source": [
    "Ahora pasamos a reescalar los datos debido a la diferencia entre los rangos de los valores de las columnas. Debido a la falta de valores atípicos se decide elegir el método de escalado **MinMax** para las variables"
   ]
  },
  {
   "cell_type": "code",
   "execution_count": 235,
   "metadata": {},
   "outputs": [],
   "source": [
    "scaler=MinMaxScaler()\n",
    "x_data=scaler.fit_transform(x_data)\n",
    "y_data=scaler.fit_transform(y_data)"
   ]
  },
  {
   "cell_type": "markdown",
   "metadata": {},
   "source": [
    "Se procede ahora a dividir el total de los datos en dos grupos **train** y **test** donde el primero es el que se usará para el entrenamiento de los modelos y el segundo se utilizará para validar el modelo y ver el error que se tiene"
   ]
  },
  {
   "cell_type": "code",
   "execution_count": 236,
   "metadata": {},
   "outputs": [],
   "source": [
    "x_train,x_test,y_train,y_test=train_test_split(x_data,y_data,test_size=0.3,random_state=42)"
   ]
  },
  {
   "cell_type": "markdown",
   "metadata": {},
   "source": [
    "Comenzaremos a probar con diferentes modelos para ver cual es el que mejor se adapta a este casoç"
   ]
  },
  {
   "cell_type": "markdown",
   "metadata": {},
   "source": [
    "## Regresión lineal"
   ]
  },
  {
   "cell_type": "code",
   "execution_count": 278,
   "metadata": {},
   "outputs": [
    {
     "name": "stdout",
     "output_type": "stream",
     "text": [
      "MSE:  0.009569701783690265\n",
      "RMSE:  0.09782485258711236\n",
      "R2 Score:  0.7758776702865369\n"
     ]
    }
   ],
   "source": [
    "lin_reg=LinearRegression()\n",
    "lin_reg.fit(x_train,y_train)\n",
    "y_predict=lin_reg.predict(x_test)\n",
    "#Errores\n",
    "mse_error=mean_squared_error(y_test,y_predict,squared=True)\n",
    "rmse_error=mean_squared_error(y_test,y_predict,squared=False)\n",
    "score=r2_score(y_test,y_predict)\n",
    "print(f'MSE: ',mse_error)\n",
    "print(f'RMSE: ',rmse_error)\n",
    "print(f'R2 Score: ',score)"
   ]
  },
  {
   "cell_type": "markdown",
   "metadata": {},
   "source": [
    "## Regresión Ridge"
   ]
  },
  {
   "cell_type": "code",
   "execution_count": 279,
   "metadata": {},
   "outputs": [
    {
     "name": "stdout",
     "output_type": "stream",
     "text": [
      "MSE:  0.010152927264694632\n",
      "RMSE:  0.10076173512149655\n",
      "R2 Score:  0.7622185347663757\n"
     ]
    }
   ],
   "source": [
    "ridge_reg=Ridge(alpha=1.30)\n",
    "ridge_reg.fit(x_train,y_train)\n",
    "y_predict=ridge_reg.predict(x_test)\n",
    "#Errores\n",
    "mse_error=mean_squared_error(y_test,y_predict,squared=True)\n",
    "rmse_error=mean_squared_error(y_test,y_predict,squared=False)\n",
    "score=r2_score(y_test,y_predict)\n",
    "print(f'MSE: ',mse_error)\n",
    "print(f'RMSE: ',rmse_error)\n",
    "print(f'R2 Score: ',score)"
   ]
  },
  {
   "cell_type": "markdown",
   "metadata": {},
   "source": [
    "## Regresión Lasso"
   ]
  },
  {
   "cell_type": "code",
   "execution_count": 280,
   "metadata": {},
   "outputs": [
    {
     "name": "stdout",
     "output_type": "stream",
     "text": [
      "MSE:  0.042815591758192044\n",
      "RMSE:  0.2069192880284292\n",
      "R2 Score:  -0.002740773935190788\n"
     ]
    }
   ],
   "source": [
    "lasso_reg=Lasso(alpha=0.1)\n",
    "lasso_reg.fit(x_train,y_train)\n",
    "y_predict=lasso_reg.predict(x_test)\n",
    "#Errores\n",
    "mse_error=mean_squared_error(y_test,y_predict,squared=True)\n",
    "rmse_error=mean_squared_error(y_test,y_predict,squared=False)\n",
    "score=r2_score(y_test,y_predict)\n",
    "print(f'MSE: ',mse_error)\n",
    "print(f'RMSE: ',rmse_error)\n",
    "print(f'R2 Score: ',score)"
   ]
  },
  {
   "cell_type": "markdown",
   "metadata": {},
   "source": [
    "## Regresión polinómica"
   ]
  },
  {
   "cell_type": "code",
   "execution_count": 287,
   "metadata": {},
   "outputs": [
    {
     "name": "stdout",
     "output_type": "stream",
     "text": [
      "MSE:  0.006740261557860152\n",
      "RMSE:  0.08209909596250224\n",
      " R2 Score:  0.8421431349302527\n"
     ]
    }
   ],
   "source": [
    "#grado del polinomio\n",
    "degree=2\n",
    "poly_reg=make_pipeline(PolynomialFeatures(degree),LinearRegression())\n",
    "poly_reg.fit(x_train,y_train)\n",
    "y_predict=poly_reg.predict(x_test)\n",
    "#Errores\n",
    "mse_error=mean_squared_error(y_test,y_predict,squared=True)\n",
    "rmse_error=mean_squared_error(y_test,y_predict,squared=False)\n",
    "score=r2_score(y_test,y_predict)\n",
    "print(f'MSE: ',mse_error)\n",
    "print(f'RMSE: ',rmse_error)\n",
    "print(f'R2 Score: ',score)"
   ]
  },
  {
   "cell_type": "markdown",
   "metadata": {},
   "source": [
    "## Regresión de Árbol de desición"
   ]
  },
  {
   "cell_type": "code",
   "execution_count": 282,
   "metadata": {},
   "outputs": [
    {
     "name": "stdout",
     "output_type": "stream",
     "text": [
      "MSE:  0.0034537852774167857\n",
      "RMSE:  0.05876891420995275\n",
      "R2 Score:  0.9191123798628746\n"
     ]
    }
   ],
   "source": [
    "trre_reg=DecisionTreeRegressor(max_depth=6, criterion='squared_error')\n",
    "trre_reg.fit(x_train,y_train)\n",
    "y_predict=trre_reg.predict(x_test)\n",
    "#Errores\n",
    "mse_error=mean_squared_error(y_test,y_predict,squared=True)\n",
    "rmse_error=mean_squared_error(y_test,y_predict,squared=False)\n",
    "score=r2_score(y_test,y_predict)\n",
    "print(f'MSE: ',mse_error)\n",
    "print(f'RMSE: ',rmse_error)\n",
    "print(f'R2 Score: ',score)"
   ]
  },
  {
   "cell_type": "markdown",
   "metadata": {},
   "source": [
    "## Vectores de soporte"
   ]
  },
  {
   "cell_type": "code",
   "execution_count": 286,
   "metadata": {},
   "outputs": [
    {
     "name": "stdout",
     "output_type": "stream",
     "text": [
      "MSE:  0.007570631017022112\n",
      "RMSE:  0.08700937315612677\n",
      "R2 Score:  0.8226958896642126\n"
     ]
    },
    {
     "name": "stderr",
     "output_type": "stream",
     "text": [
      "c:\\Users\\juan\\AppData\\Local\\Programs\\Python\\Python312\\Lib\\site-packages\\sklearn\\utils\\validation.py:1300: DataConversionWarning: A column-vector y was passed when a 1d array was expected. Please change the shape of y to (n_samples, ), for example using ravel().\n",
      "  y = column_or_1d(y, warn=True)\n"
     ]
    }
   ],
   "source": [
    "svm_reg=SVR(kernel='rbf',C=1.0, epsilon=0.01)\n",
    "svm_reg.fit(x_train,y_train)\n",
    "y_predict=svm_reg.predict(x_test)\n",
    "#Errores\n",
    "mse_error=mean_squared_error(y_test,y_predict,squared=True)\n",
    "rmse_error=mean_squared_error(y_test,y_predict,squared=False)\n",
    "score=r2_score(y_test,y_predict)\n",
    "print(f'MSE: ',mse_error)\n",
    "print(f'RMSE: ',rmse_error)\n",
    "print(f'R2 Score: ',score)"
   ]
  },
  {
   "cell_type": "markdown",
   "metadata": {},
   "source": [
    "Se puede ver en la siguiente tabla de errores que el modelo con el menor R2 score es de *Regresión del Árbol de decisión*."
   ]
  },
  {
   "cell_type": "markdown",
   "metadata": {},
   "source": [
    "|Error|Lineal|Ridge|Lasso|Polinómica|Árbol|SVR|\n",
    "|-----|------|-----|-----|----------|-----|---|\n",
    "|MSE|  0.00957|0.01015|0.04282|0.00674|0.00345|0.00757|\n",
    "|RMSE|  0.09782|0.10076|0.20692|0.08210|0.05877| 0.08701|\n",
    "|R2 Score| 0.77588|0.76222|-0.00274|0.84214|0.91911|0.82270|"
   ]
  },
  {
   "cell_type": "markdown",
   "metadata": {},
   "source": [
    "# Modelo de clasificación\n",
    "\n",
    "Implementar un modelo de clasificación con aprendizaje supervisado que permita clasificar el precio de los vehículos en baratos y caros usando la mediana de los precios como punto de corte, utilizando los datos que se han puesto a su disposición."
   ]
  },
  {
   "cell_type": "code",
   "execution_count": 318,
   "metadata": {},
   "outputs": [],
   "source": [
    "from sklearn.linear_model import LogisticRegression\n",
    "from sklearn.model_selection import train_test_split\n",
    "from sklearn.metrics import confusion_matrix, classification_report"
   ]
  },
  {
   "cell_type": "code",
   "execution_count": 311,
   "metadata": {},
   "outputs": [],
   "source": [
    "total=len(data.columns)\n",
    "x=data.iloc[:,total-2:total-1]\n",
    "y=data.iloc[:,total-1:]"
   ]
  },
  {
   "cell_type": "markdown",
   "metadata": {},
   "source": [
    "Debido a que los datos fueron dividos en gama *Alta* y *Baja* en base a la mediana tenemos practicamente la misma cantidad de datos en ambos grupos, solo tenemos unos mas en el de los vehículos de gama alta."
   ]
  },
  {
   "cell_type": "code",
   "execution_count": 310,
   "metadata": {},
   "outputs": [
    {
     "data": {
      "text/plain": [
       "<Axes: xlabel='Gama', ylabel='count'>"
      ]
     },
     "execution_count": 310,
     "metadata": {},
     "output_type": "execute_result"
    },
    {
     "data": {
      "image/png": "[encoded data removed]",
      "text/plain": [
       "<Figure size 640x480 with 1 Axes>"
      ]
     },
     "metadata": {},
     "output_type": "display_data"
    }
   ],
   "source": [
    "sns.countplot(data=y, x='Gama', hue='Gama')"
   ]
  },
  {
   "cell_type": "markdown",
   "metadata": {},
   "source": [
    "Realizamos el mimso procedimiento con los datos para tener un subset de datos para entrenar y otro para validarlo"
   ]
  },
  {
   "cell_type": "code",
   "execution_count": 313,
   "metadata": {},
   "outputs": [],
   "source": [
    "x_train,x_test,y_train,y_test=train_test_split(x,y,test_size=0.3, random_state=40)"
   ]
  },
  {
   "cell_type": "markdown",
   "metadata": {},
   "source": [
    "## Regresion Logística"
   ]
  },
  {
   "cell_type": "code",
   "execution_count": 317,
   "metadata": {},
   "outputs": [
    {
     "name": "stderr",
     "output_type": "stream",
     "text": [
      "c:\\Users\\juan\\AppData\\Local\\Programs\\Python\\Python312\\Lib\\site-packages\\sklearn\\utils\\validation.py:1300: DataConversionWarning: A column-vector y was passed when a 1d array was expected. Please change the shape of y to (n_samples, ), for example using ravel().\n",
      "  y = column_or_1d(y, warn=True)\n"
     ]
    }
   ],
   "source": [
    "log_reg=LogisticRegression()\n",
    "log_reg.fit(x_train,y_train)\n",
    "y_predict=log_reg.predict(x_test)"
   ]
  },
  {
   "cell_type": "code",
   "execution_count": 320,
   "metadata": {},
   "outputs": [
    {
     "data": {
      "image/png": "[encoded data removed]",
      "text/plain": [
       "<Figure size 1200x800 with 1 Axes>"
      ]
     },
     "metadata": {},
     "output_type": "display_data"
    }
   ],
   "source": [
    "cm = confusion_matrix(y_test, y_predict)\n",
    "fig, ax = plt.subplots(figsize=(12,8))\n",
    "ax.matshow(cm)\n",
    "plt.title('Matriz de Confusión', fontsize=20)\n",
    "plt.ylabel('Etiqueta Verdadera', fontsize=15)\n",
    "plt.xlabel('Etiqueta Predicha', fontsize=15)\n",
    "for (i, j), z in np.ndenumerate(cm):\n",
    "    ax.text(j, i, '{:0.1f}'.format(z), ha='center', va='center')"
   ]
  },
  {
   "cell_type": "code",
   "execution_count": 322,
   "metadata": {},
   "outputs": [
    {
     "name": "stdout",
     "output_type": "stream",
     "text": [
      "              precision    recall  f1-score   support\n",
      "\n",
      "        Alta       1.00      1.00      1.00        24\n",
      "        Baja       1.00      1.00      1.00        38\n",
      "\n",
      "    accuracy                           1.00        62\n",
      "   macro avg       1.00      1.00      1.00        62\n",
      "weighted avg       1.00      1.00      1.00        62\n",
      "\n"
     ]
    }
   ],
   "source": [
    "print(classification_report(y_test, y_predict))"
   ]
  }
 ],
 "metadata": {
  "kernelspec": {
   "display_name": "Python 3",
   "language": "python",
   "name": "python3"
  },
  "language_info": {
   "codemirror_mode": {
    "name": "ipython",
    "version": 3
   },
   "file_extension": ".py",
   "mimetype": "text/x-python",
   "name": "python",
   "nbconvert_exporter": "python",
   "pygments_lexer": "ipython3",
   "version": "3.12.1"
  }
 },
 "nbformat": 4,
 "nbformat_minor": 2
}
